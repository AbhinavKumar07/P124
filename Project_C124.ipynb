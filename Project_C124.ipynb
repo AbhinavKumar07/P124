{
  "nbformat": 4,
  "nbformat_minor": 0,
  "metadata": {
    "colab": {
      "provenance": [],
      "include_colab_link": true
    },
    "kernelspec": {
      "name": "python3",
      "display_name": "Python 3"
    },
    "language_info": {
      "name": "python"
    }
  },
  "cells": [
    {
      "cell_type": "markdown",
      "metadata": {
        "id": "view-in-github",
        "colab_type": "text"
      },
      "source": [
        "<a href=\"https://colab.research.google.com/github/AbhinavKumar07/P124/blob/main/Project_C124.ipynb\" target=\"_parent\"><img src=\"https://colab.research.google.com/assets/colab-badge.svg\" alt=\"Open In Colab\"/></a>"
      ]
    },
    {
      "cell_type": "markdown",
      "source": [
        "## Print Elements of Array"
      ],
      "metadata": {
        "id": "xZm_Pf8B1ehI"
      }
    },
    {
      "cell_type": "markdown",
      "source": [
        "**Problem**: Given 1X1 Array:\n",
        "\n",
        "```\n",
        "arr_1d = [53, 78, 90, 12, 15, 65, 44, 32, 29, 36]\n",
        "```\n",
        "\n",
        "1. Print 3rd and 9th element of the array.\n",
        "2. Change  3rd and 9th element to 100.\n"
      ],
      "metadata": {
        "id": "Sa43lAGbgtEp"
      }
    },
    {
      "cell_type": "code",
      "source": [
        "# write code here\n",
        "import numpy as np\n",
        "\n",
        "arr_1d = np.array([523, 75, 330, 12, 143, 655, 4334, 3242, 689, 316])\n",
        "\n",
        "print(arr_1d[2])\n",
        "print(arr_1d[8])\n",
        "\n",
        "arr_1d[2] = 100\n",
        "arr_1d[8] = 100\n",
        "\n",
        "print(arr_1d)"
      ],
      "metadata": {
        "id": "8Tu6DVd_gsyW",
        "colab": {
          "base_uri": "https://localhost:8080/"
        },
        "outputId": "ffaae27a-51a8-46c5-8355-c9ae3142b3c9"
      },
      "execution_count": 29,
      "outputs": [
        {
          "output_type": "stream",
          "name": "stdout",
          "text": [
            "330\n",
            "689\n",
            "[ 523   75  100   12  143  655 4334 3242  100  316]\n"
          ]
        }
      ]
    },
    {
      "cell_type": "markdown",
      "source": [
        "## Update Diagonal Elements of Multidimensional Array"
      ],
      "metadata": {
        "id": "uRA1HzKH1tnN"
      }
    },
    {
      "cell_type": "markdown",
      "source": [
        "**Problem**: Given a 3x3 array, change all the diagonal elements of the matrix to 0.\n",
        "\n",
        "```\n",
        "\n",
        "arr_2d = [[1,2,3],\n",
        "          [4,5,6],\n",
        "          [7,8,9]]\n",
        "```\n",
        "\n",
        "\n",
        "\n"
      ],
      "metadata": {
        "id": "3eSRw71ohlfT"
      }
    },
    {
      "cell_type": "code",
      "source": [
        "#Write code here\n",
        "\n",
        "arr_2d = np.array([[1,2,3],[7,8,9],[4,5,6]])\n",
        "\n",
        "for i in range(3):\n",
        "  for j in range(3):\n",
        "    if i == j :\n",
        "      arr_2d[i][j] = 0\n",
        "\n",
        "print(arr_2d)\n",
        "\n"
      ],
      "metadata": {
        "id": "FR0UU8eohcL2",
        "colab": {
          "base_uri": "https://localhost:8080/"
        },
        "outputId": "363c2f31-7cb3-49c3-ac00-3d78fe0734ba"
      },
      "execution_count": 30,
      "outputs": [
        {
          "output_type": "stream",
          "name": "stdout",
          "text": [
            "[[0 2 3]\n",
            " [7 0 9]\n",
            " [4 5 0]]\n"
          ]
        }
      ]
    },
    {
      "cell_type": "markdown",
      "source": [
        "## Numbers of Rows & Column"
      ],
      "metadata": {
        "id": "bXr0ly2R2eWL"
      }
    },
    {
      "cell_type": "markdown",
      "source": [
        "**Problem**: Write a program to find the number of rows and columns present in the matrix given below.\n",
        "Note: Initialize the matrix using NumPy.\n",
        "\n",
        "```\n",
        " A= [[9,5,6,1,-2],\n",
        "    [3,-8,1,2,0],\n",
        "    [6,9,3,3,5]]\n",
        "```\n",
        "\n"
      ],
      "metadata": {
        "id": "Zd4zvVe6aDuH"
      }
    },
    {
      "cell_type": "code",
      "execution_count": 31,
      "metadata": {
        "id": "Pc1piH7OaABW",
        "colab": {
          "base_uri": "https://localhost:8080/"
        },
        "outputId": "a7d4a2d0-70b2-4b31-da79-9106ce5e3364"
      },
      "outputs": [
        {
          "output_type": "stream",
          "name": "stdout",
          "text": [
            "3  rows and  5  columns\n"
          ]
        }
      ],
      "source": [
        "# write code here\n",
        "A = np.array([[9,5,6,1,-2],[3,-8,1,2,0],[6,9,3,3,5]])\n",
        "\n",
        "rows = len(A)\n",
        "columns = len(A[0])\n",
        "\n",
        "print(rows , \" rows and \" , columns , \" columns\")"
      ]
    },
    {
      "cell_type": "markdown",
      "source": [
        "## Scalar Multiplication"
      ],
      "metadata": {
        "id": "e-VQUDqo3Z89"
      }
    },
    {
      "cell_type": "markdown",
      "source": [
        "**Problem**: Print each element of the following matrix. Initialize the matrix using NumPy.  <br />\n",
        "Also, multiply the matrix with n = 150 and print the matrix after multiplication.\n",
        "   \n",
        "```\n",
        " B=[[-8,0,2,4],[5,2,-1,7]]\n",
        "```\n",
        "\n",
        "\n",
        "   "
      ],
      "metadata": {
        "id": "T49oCERtaugu"
      }
    },
    {
      "cell_type": "code",
      "source": [
        "B = np.array([[-8,0,2,4],[5,2,-1,7]])\n",
        "\n",
        "C = np.array([[0,0,0,0],[0,0,0,0]])\n",
        "n = 150\n",
        "\n",
        "for i in range(len(C)):\n",
        "  for j in range(len(C[0])):\n",
        "    C[i][j] += B[i][[j]] * 150\n",
        "\n",
        "print(C)\n"
      ],
      "metadata": {
        "id": "lqYsQ20ZgeXy",
        "colab": {
          "base_uri": "https://localhost:8080/"
        },
        "outputId": "c64d6810-fb6c-406d-ce91-6da37953886a"
      },
      "execution_count": 32,
      "outputs": [
        {
          "output_type": "stream",
          "name": "stdout",
          "text": [
            "[[-1200     0   300   600]\n",
            " [  750   300  -150  1050]]\n"
          ]
        }
      ]
    }
  ]
}